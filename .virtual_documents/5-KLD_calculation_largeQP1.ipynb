from parameters import QP1, QP2, QP3, CTU, PRESET 
from kl_widgets_largeQP1 import Single_PlotVisualization, Double_PlotVisualization, Triple_PlotVisualization, kl_output
from scipy.stats import entropy
import matplotlib.pyplot as plt
import numpy as np
plt.rcParams["font.size"] = 10 # 全体のフォントサイズが変更されます。
plt.rcParams['figure.figsize'] = (6.0, 3.0) 
plt.rcParams['figure.dpi'] = 1200
from matplotlib.ticker import ScalarFormatter
from scipy.stats import entropy
from matplotlib.font_manager import FontProperties
from matplotlib.ticker import ScalarFormatter


X = 15
Y = 25


single_plotter = Single_PlotVisualization()
hist_filenames = single_plotter.extract_histograms(QP1=X, CTU=64, PRESET="medium")


double_plotter1 = Double_PlotVisualization()
hist_filenames1 = double_plotter1.extract_histograms(QP1=X, QP2=X, CTU=64, PRESET="medium")


double_plotter2 = Double_PlotVisualization()
hist_filenames2 = double_plotter2.extract_histograms(QP1=Y, QP2=X, CTU=64, PRESET="medium")


triple_plotter = Triple_PlotVisualization()
hist_filenames = triple_plotter.extract_histograms(QP1=Y, QP2=X, QP3=X, CTU=64, PRESET="medium")


PU1_1 = kl_output(single_plotter.histograms2, double_plotter1.histograms2, "PU")
LUMA1_1 = kl_output(single_plotter.histograms3, double_plotter1.histograms3, "Luminance")
CHROMA1_1 = kl_output(single_plotter.histograms4, double_plotter1.histograms4, "Chrominance")

print(len(PU1_1))
print(len(LUMA1_1))
print(len(CHROMA1_1))


PU1_2 = kl_output(double_plotter2.histograms2, triple_plotter.histograms2, "PU")
LUMA1_2 = kl_output(double_plotter2.histograms3, triple_plotter.histograms3, "Luminance")
CHROMA1_2 = kl_output(double_plotter2.histograms4, triple_plotter.histograms4, "Chrominance")

print(len(PU1_2))
print(len(LUMA1_2))
print(len(CHROMA1_2))


X = 25
Y = 35


single_plotter = Single_PlotVisualization()
hist_filenames = single_plotter.extract_histograms(QP1=X, CTU=64, PRESET="medium")


double_plotter1 = Double_PlotVisualization()
hist_filenames1 = double_plotter1.extract_histograms(QP1=X, QP2=X, CTU=64, PRESET="medium")


double_plotter2 = Double_PlotVisualization()
hist_filenames2 = double_plotter2.extract_histograms(QP1=Y, QP2=X, CTU=64, PRESET="medium")


triple_plotter = Triple_PlotVisualization()
hist_filenames = triple_plotter.extract_histograms(QP1=Y, QP2=X, QP3=X, CTU=64, PRESET="medium")


PU2_1 = kl_output(single_plotter.histograms2, double_plotter1.histograms2, "PU")
LUMA2_1 = kl_output(single_plotter.histograms3, double_plotter1.histograms3, "Luminance")
CHROMA2_1 = kl_output(single_plotter.histograms4, double_plotter1.histograms4, "Chrominance")

print(len(PU2_1))
print(len(LUMA2_1))
print(len(CHROMA2_1))


PU2_2 = kl_output(double_plotter2.histograms2, triple_plotter.histograms2, "PU")
LUMA2_2 = kl_output(double_plotter2.histograms3, triple_plotter.histograms3, "Luminance")
CHROMA2_2 = kl_output(double_plotter2.histograms4, triple_plotter.histograms4, "Chrominance")

print(len(PU2_2))
print(len(LUMA2_2))
print(len(CHROMA2_2))


X = 35
Y = 45


single_plotter = Single_PlotVisualization()
hist_filenames = single_plotter.extract_histograms(QP1=X, CTU=64, PRESET="medium")


double_plotter1 = Double_PlotVisualization()
hist_filenames1 = double_plotter1.extract_histograms(QP1=X, QP2=X, CTU=64, PRESET="medium")


double_plotter2 = Double_PlotVisualization()
hist_filenames2 = double_plotter2.extract_histograms(QP1=Y, QP2=X, CTU=64, PRESET="medium")


triple_plotter = Triple_PlotVisualization()
hist_filenames = triple_plotter.extract_histograms(QP1=Y, QP2=X, QP3=X, CTU=64, PRESET="medium")


PU3_1 = kl_output(single_plotter.histograms2, double_plotter1.histograms2, "PU")
LUMA3_1 = kl_output(single_plotter.histograms3, double_plotter1.histograms3, "Luminance")
CHROMA3_1 = kl_output(single_plotter.histograms4, double_plotter1.histograms4, "Chrominance")

print(len(PU3_1))
print(len(LUMA3_1))
print(len(CHROMA3_1))


PU3_2 = kl_output(double_plotter2.histograms2, triple_plotter.histograms2, "PU")
LUMA3_2 = kl_output(double_plotter2.histograms3, triple_plotter.histograms3, "Luminance")
CHROMA3_2 = kl_output(double_plotter2.histograms4, triple_plotter.histograms4, "Chrominance")

print(len(PU3_2))
print(len(LUMA3_2))
print(len(CHROMA3_2))


# データをKLダイバージェンスのリストとして使用
data1 = PU1_1
data2 = PU2_1
data3 = PU3_1
data4 = PU1_2
data5 = PU2_2
data6 = PU3_2

# 1つのプロットに全ての箱ひげ図を描画
plt.figure(figsize=(10, 5))

# 箱ひげ図の描画（1つ目）
plt.boxplot([data1, data4, data2, data5, data3, data6], vert=True, labels=['S(15)\nD(15,15)', 'D(25,15)\nT(25,15,15)', 'S(25)\nD(25,25)', 'D(35,25)\nT(35,25,25)', 'S(35)\nD(35,35)', 'D(45,35)\nT(45,35,35)'], showfliers=False, medianprops={'color': 'orange', 'linewidth': 0.5})

# 散布図の描画
for i, data in enumerate([data1, data4, data2, data5, data3, data6]):
    x = [i + 1] * len(data)  # 各データセットに対応する x 座標
    plt.scatter(x, data, color='blue', marker='.', s=30)

plt.ylim(-0.0001, 0.0020)
plt.xlabel('QP values of the two images', fontsize=18)
plt.ylabel('KL divergence', fontsize=18)
plt.grid(True)

# フォントプロパティの設定
font_properties = FontProperties()
font_properties.set_weight('bold')

# X軸目盛のフォントサイズとスタイルを設定
plt.gca().tick_params(axis='x', labelsize=24)
for tick in plt.gca().get_xticklabels():
    tick.set_fontproperties(font_properties)

# Y軸目盛のフォントサイズとスタイルを設定
plt.gca().tick_params(axis='y', labelsize=24)
for tick in plt.gca().get_yticklabels():
    tick.set_fontproperties(font_properties)

# y軸の目盛りを指数表記に設定
plt.gca().yaxis.set_major_formatter(ScalarFormatter(useMathText=True))
plt.gca().ticklabel_format(style="sci", axis="y", scilimits=(0,0))

# Y軸の単位を大きくする
plt.gca().yaxis.offsetText.set_fontsize(24)
plt.gca().yaxis.offsetText.set_fontproperties(font_properties)

plt.savefig('largeQP1_PU.png', bbox_inches="tight", pad_inches=0.1, dpi=300)
plt.show()


# データをKLダイバージェンスのリストとして使用
data1 = LUMA1_1
data2 = LUMA2_1
data3 = LUMA3_1
data4 = LUMA1_2
data5 = LUMA2_2
data6 = LUMA3_2

# 1つのプロットに全ての箱ひげ図を描画
plt.figure(figsize=(10, 5))

# 箱ひげ図の描画（1つ目）
plt.boxplot([data1, data4, data2, data5, data3, data6], vert=True, labels=['S(15)\nD(15,15)', 'D(25,15)\nT(25,15,15)', 'S(25)\nD(25,25)', 'D(35,25)\nT(35,25,25)', 'S(35)\nD(35,35)', 'D(45,35)\nT(45,35,35)'], showfliers=False, medianprops={'color': 'orange', 'linewidth': 0.5})

# 散布図の描画
for i, data in enumerate([data1, data4, data2, data5, data3, data6]):
    x = [i + 1] * len(data)  # 各データセットに対応する x 座標
    plt.scatter(x, data, color='blue', marker='.', s=30)

plt.ylim(-0.001, 0.02)
plt.xlabel('QP values of the two images', fontsize=18)
plt.ylabel('KL divergence', fontsize=18)
plt.grid(True)

# フォントプロパティの設定
font_properties = FontProperties()
font_properties.set_weight('bold')

# X軸目盛のフォントサイズとスタイルを設定
plt.gca().tick_params(axis='x', labelsize=24)
for tick in plt.gca().get_xticklabels():
    tick.set_fontproperties(font_properties)

# Y軸目盛のフォントサイズとスタイルを設定
plt.gca().tick_params(axis='y', labelsize=24)
for tick in plt.gca().get_yticklabels():
    tick.set_fontproperties(font_properties)

# y軸の目盛りを指数表記に設定
plt.gca().yaxis.set_major_formatter(ScalarFormatter(useMathText=True))
plt.gca().ticklabel_format(style="sci", axis="y", scilimits=(0,0))

# Y軸の単位を大きくする
plt.gca().yaxis.offsetText.set_fontsize(24)
plt.gca().yaxis.offsetText.set_fontproperties(font_properties)

plt.savefig('largeQP1_LUMA.png', bbox_inches="tight", pad_inches=0.1, dpi=300)
plt.show()


# データをKLダイバージェンスのリストとして使用
data1 = CHROMA1_1
data2 = CHROMA2_1
data3 = CHROMA3_1
data4 = CHROMA1_2
data5 = CHROMA2_2
data6 = CHROMA3_2

# 1つのプロットに全ての箱ひげ図を描画
plt.figure(figsize=(10, 5))

# 箱ひげ図の描画（1つ目）
plt.boxplot([data1, data4, data2, data5, data3, data6], vert=True, labels=['S(15)\nD(15,15)', 'D(25,15)\nT(25,15,15)', 'S(25)\nD(25,25)', 'D(35,25)\nT(35,25,25)', 'S(35)\nD(35,35)', 'D(45,35)\nT(45,35,35)'], showfliers=False, medianprops={'color': 'orange', 'linewidth': 0.5})

# 散布図の描画
for i, data in enumerate([data1, data4, data2, data5, data3, data6]):
    x = [i + 1] * len(data)  # 各データセットに対応する x 座標
    plt.scatter(x, data, color='blue', marker='.', s=30)

plt.ylim(-0.001, 0.02)
plt.xlabel('QP values of the two images', fontsize=18)
plt.ylabel('KL divergence', fontsize=18)
plt.grid(True)

# フォントプロパティの設定
font_properties = FontProperties()
font_properties.set_weight('bold')

# X軸目盛のフォントサイズとスタイルを設定
plt.gca().tick_params(axis='x', labelsize=24)
for tick in plt.gca().get_xticklabels():
    tick.set_fontproperties(font_properties)

# Y軸目盛のフォントサイズとスタイルを設定
plt.gca().tick_params(axis='y', labelsize=24)
for tick in plt.gca().get_yticklabels():
    tick.set_fontproperties(font_properties)

# y軸の目盛りを指数表記に設定
plt.gca().yaxis.set_major_formatter(ScalarFormatter(useMathText=True))
plt.gca().ticklabel_format(style="sci", axis="y", scilimits=(0,0))

# Y軸の単位を大きくする
plt.gca().yaxis.offsetText.set_fontsize(24)
plt.gca().yaxis.offsetText.set_fontproperties(font_properties)

plt.savefig('largeQP1_CHROMA.png', bbox_inches="tight", pad_inches=0.1, dpi=300)
plt.show()



