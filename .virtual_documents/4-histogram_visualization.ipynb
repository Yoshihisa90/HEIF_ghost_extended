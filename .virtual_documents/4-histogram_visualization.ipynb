from parameters import QP1, QP2, QP3, CTU, PRESET 
from plot_widgets import Single_PlotVisualization, Double_PlotVisualization, Triple_PlotVisualization, kl_output, compare_depth_elements
from scipy.stats import entropy
import matplotlib.pyplot as plt
import numpy as np



single_plotter = Single_PlotVisualization(QP1, CTU, PRESET)


double_plotter = Double_PlotVisualization(QP1, QP2, CTU, PRESET)


triple_plotter = Triple_PlotVisualization(QP1, QP2, QP3, CTU, PRESET)





# KL divergence - Single vs Double
kl_output(single_plotter.histograms, double_plotter.histograms, "CU")
kl_output(single_plotter.histograms2, double_plotter.histograms2, "PU")
kl_output(single_plotter.histograms3, double_plotter.histograms3, "Luminance")
kl_output(single_plotter.histograms4, double_plotter.histograms4, "Chrominance")


# KL divergence - Double vs Triple
kl_output(double_plotter.histograms, triple_plotter.histograms, "CU")
kl_output(double_plotter.histograms2, triple_plotter.histograms2, "PU")
kl_output(double_plotter.histograms3, triple_plotter.histograms3, "Luminance")
kl_output(double_plotter.histograms4, triple_plotter.histograms4, "Chrominance")






