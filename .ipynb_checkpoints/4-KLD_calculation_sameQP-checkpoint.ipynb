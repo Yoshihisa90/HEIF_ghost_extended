{
 "cells": [
  {
   "cell_type": "code",
   "execution_count": 1,
   "id": "e7acb1f5",
   "metadata": {},
   "outputs": [],
   "source": [
    "from parameters import QP1, QP2, QP3, CTU, PRESET \n",
    "from kl_widgets_sameQP import Single_PlotVisualization, Double_PlotVisualization, Triple_PlotVisualization, kl_output\n",
    "from scipy.stats import entropy\n",
    "import matplotlib.pyplot as plt\n",
    "import numpy as np\n",
    "plt.rcParams[\"font.size\"] = 10 # 全体のフォントサイズが変更されます。\n",
    "plt.rcParams['figure.figsize'] = (5.0, 3.5) \n",
    "plt.rcParams['figure.dpi'] = 1200\n",
    "from matplotlib.font_manager import FontProperties\n",
    "from matplotlib.ticker import ScalarFormatter"
   ]
  },
  {
   "cell_type": "code",
   "execution_count": 2,
   "id": "b9a5f4f5-44e6-4b15-b985-c21a34f242c3",
   "metadata": {},
   "outputs": [],
   "source": [
    "X = 15\n",
    "Y = 15"
   ]
  },
  {
   "cell_type": "code",
   "execution_count": 3,
   "id": "cd7895f6",
   "metadata": {},
   "outputs": [],
   "source": [
    "single_plotter = Single_PlotVisualization()\n",
    "hist_filenames = single_plotter.extract_histograms(QP1=X, CTU=64, PRESET=\"medium\")"
   ]
  },
  {
   "cell_type": "code",
   "execution_count": 4,
   "id": "2601162e-9858-4aa6-9d36-c063d8e04eea",
   "metadata": {},
   "outputs": [],
   "source": [
    "double_plotter1 = Double_PlotVisualization()\n",
    "hist_filenames1 = double_plotter1.extract_histograms(QP1=X, QP2=X, CTU=64, PRESET=\"medium\")"
   ]
  },
  {
   "cell_type": "code",
   "execution_count": 5,
   "id": "ed59bcbd-58de-4799-89da-e5629ca53f28",
   "metadata": {},
   "outputs": [],
   "source": [
    "double_plotter2 = Double_PlotVisualization()\n",
    "hist_filenames2 = double_plotter2.extract_histograms(QP1=Y, QP2=X, CTU=64, PRESET=\"medium\")"
   ]
  },
  {
   "cell_type": "code",
   "execution_count": 6,
   "id": "e8a58da0-1be3-4803-b8cc-05bf822be1d6",
   "metadata": {},
   "outputs": [],
   "source": [
    "triple_plotter = Triple_PlotVisualization()\n",
    "hist_filenames = triple_plotter.extract_histograms(QP1=Y, QP2=X, QP3=X, CTU=64, PRESET=\"medium\")"
   ]
  },
  {
   "cell_type": "code",
   "execution_count": 7,
   "id": "5374b896-e137-42c9-a9e0-e867fb2d129b",
   "metadata": {},
   "outputs": [
    {
     "name": "stdout",
     "output_type": "stream",
     "text": [
      "150\n",
      "150\n",
      "150\n"
     ]
    }
   ],
   "source": [
    "PU1_1 = kl_output(single_plotter.histograms2, double_plotter1.histograms2, \"PU\")\n",
    "LUMA1_1 = kl_output(single_plotter.histograms3, double_plotter1.histograms3, \"Luminance\")\n",
    "CHROMA1_1 = kl_output(single_plotter.histograms4, double_plotter1.histograms4, \"Chrominance\")\n",
    "\n",
    "print(len(PU1_1))\n",
    "print(len(LUMA1_1))\n",
    "print(len(CHROMA1_1))"
   ]
  },
  {
   "cell_type": "code",
   "execution_count": 8,
   "id": "80af87fc-c933-473d-a1f8-474191ba71f5",
   "metadata": {},
   "outputs": [
    {
     "name": "stdout",
     "output_type": "stream",
     "text": [
      "150\n",
      "150\n",
      "150\n"
     ]
    }
   ],
   "source": [
    "PU1_2 = kl_output(double_plotter2.histograms2, triple_plotter.histograms2, \"PU\")\n",
    "LUMA1_2 = kl_output(double_plotter2.histograms3, triple_plotter.histograms3, \"Luminance\")\n",
    "CHROMA1_2 = kl_output(double_plotter2.histograms4, triple_plotter.histograms4, \"Chrominance\")\n",
    "\n",
    "print(len(PU1_2))\n",
    "print(len(LUMA1_2))\n",
    "print(len(CHROMA1_2))"
   ]
  },
  {
   "cell_type": "code",
   "execution_count": 9,
   "id": "444e4547-c933-4101-a80b-f51d69acbff6",
   "metadata": {},
   "outputs": [],
   "source": [
    "X = 25\n",
    "Y = 25"
   ]
  },
  {
   "cell_type": "code",
   "execution_count": 10,
   "id": "975ee7e0-4af5-40f7-b978-c90218f9fd71",
   "metadata": {},
   "outputs": [],
   "source": [
    "single_plotter = Single_PlotVisualization()\n",
    "hist_filenames = single_plotter.extract_histograms(QP1=X, CTU=64, PRESET=\"medium\")"
   ]
  },
  {
   "cell_type": "code",
   "execution_count": 11,
   "id": "25b33322-3af6-4afd-b7db-979c06b47f7a",
   "metadata": {},
   "outputs": [],
   "source": [
    "double_plotter1 = Double_PlotVisualization()\n",
    "hist_filenames1 = double_plotter1.extract_histograms(QP1=X, QP2=X, CTU=64, PRESET=\"medium\")"
   ]
  },
  {
   "cell_type": "code",
   "execution_count": 12,
   "id": "9c2d36f3-6a6d-4b07-b8bb-6849aa65a7a8",
   "metadata": {},
   "outputs": [],
   "source": [
    "double_plotter2 = Double_PlotVisualization()\n",
    "hist_filenames2 = double_plotter2.extract_histograms(QP1=Y, QP2=X, CTU=64, PRESET=\"medium\")"
   ]
  },
  {
   "cell_type": "code",
   "execution_count": 13,
   "id": "6bf3a875-ebb5-48e1-b351-193fef485134",
   "metadata": {},
   "outputs": [],
   "source": [
    "triple_plotter = Triple_PlotVisualization()\n",
    "hist_filenames = triple_plotter.extract_histograms(QP1=Y, QP2=X, QP3=X, CTU=64, PRESET=\"medium\")"
   ]
  },
  {
   "cell_type": "code",
   "execution_count": 14,
   "id": "198446e0-f062-4110-a77d-49a0a736a43c",
   "metadata": {},
   "outputs": [
    {
     "name": "stdout",
     "output_type": "stream",
     "text": [
      "150\n",
      "150\n",
      "150\n"
     ]
    }
   ],
   "source": [
    "PU2_1 = kl_output(single_plotter.histograms2, double_plotter1.histograms2, \"PU\")\n",
    "LUMA2_1 = kl_output(single_plotter.histograms3, double_plotter1.histograms3, \"Luminance\")\n",
    "CHROMA2_1 = kl_output(single_plotter.histograms4, double_plotter1.histograms4, \"Chrominance\")\n",
    "\n",
    "print(len(PU2_1))\n",
    "print(len(LUMA2_1))\n",
    "print(len(CHROMA2_1))"
   ]
  },
  {
   "cell_type": "code",
   "execution_count": 15,
   "id": "2616fbf3-3e59-42b9-8aa4-8c7d5476b5de",
   "metadata": {},
   "outputs": [
    {
     "name": "stdout",
     "output_type": "stream",
     "text": [
      "150\n",
      "150\n",
      "150\n"
     ]
    }
   ],
   "source": [
    "PU2_2 = kl_output(double_plotter2.histograms2, triple_plotter.histograms2, \"PU\")\n",
    "LUMA2_2 = kl_output(double_plotter2.histograms3, triple_plotter.histograms3, \"Luminance\")\n",
    "CHROMA2_2 = kl_output(double_plotter2.histograms4, triple_plotter.histograms4, \"Chrominance\")\n",
    "\n",
    "print(len(PU2_2))\n",
    "print(len(LUMA2_2))\n",
    "print(len(CHROMA2_2))"
   ]
  },
  {
   "cell_type": "code",
   "execution_count": 16,
   "id": "3b881ceb-4a6b-4f04-bde6-7f6e778cb713",
   "metadata": {},
   "outputs": [],
   "source": [
    "X = 35\n",
    "Y = 35"
   ]
  },
  {
   "cell_type": "code",
   "execution_count": 17,
   "id": "9789e11a-44d6-4fe5-a1e2-607334bbac93",
   "metadata": {},
   "outputs": [],
   "source": [
    "single_plotter = Single_PlotVisualization()\n",
    "hist_filenames = single_plotter.extract_histograms(QP1=X, CTU=64, PRESET=\"medium\")"
   ]
  },
  {
   "cell_type": "code",
   "execution_count": 18,
   "id": "42602d6b-eb7b-4c24-aade-337c06423658",
   "metadata": {},
   "outputs": [],
   "source": [
    "double_plotter1 = Double_PlotVisualization()\n",
    "hist_filenames1 = double_plotter1.extract_histograms(QP1=X, QP2=X, CTU=64, PRESET=\"medium\")"
   ]
  },
  {
   "cell_type": "code",
   "execution_count": 19,
   "id": "5a20011b-5b87-41ad-b489-a381eae6890b",
   "metadata": {},
   "outputs": [],
   "source": [
    "double_plotter2 = Double_PlotVisualization()\n",
    "hist_filenames2 = double_plotter2.extract_histograms(QP1=Y, QP2=X, CTU=64, PRESET=\"medium\")"
   ]
  },
  {
   "cell_type": "code",
   "execution_count": 20,
   "id": "6a12765a-d424-45da-ab9c-db4b402368f0",
   "metadata": {},
   "outputs": [],
   "source": [
    "triple_plotter = Triple_PlotVisualization()\n",
    "hist_filenames = triple_plotter.extract_histograms(QP1=Y, QP2=X, QP3=X, CTU=64, PRESET=\"medium\")"
   ]
  },
  {
   "cell_type": "code",
   "execution_count": 21,
   "id": "a3039ca8-3094-42fd-90e8-fe82b5aa3806",
   "metadata": {},
   "outputs": [
    {
     "name": "stdout",
     "output_type": "stream",
     "text": [
      "150\n",
      "150\n",
      "150\n"
     ]
    }
   ],
   "source": [
    "PU3_1 = kl_output(single_plotter.histograms2, double_plotter1.histograms2, \"PU\")\n",
    "LUMA3_1 = kl_output(single_plotter.histograms3, double_plotter1.histograms3, \"Luminance\")\n",
    "CHROMA3_1 = kl_output(single_plotter.histograms4, double_plotter1.histograms4, \"Chrominance\")\n",
    "\n",
    "print(len(PU3_1))\n",
    "print(len(LUMA3_1))\n",
    "print(len(CHROMA3_1))"
   ]
  },
  {
   "cell_type": "code",
   "execution_count": 22,
   "id": "88f66eaf-1337-4220-bed2-34d42b214890",
   "metadata": {},
   "outputs": [
    {
     "name": "stdout",
     "output_type": "stream",
     "text": [
      "150\n",
      "150\n",
      "150\n"
     ]
    }
   ],
   "source": [
    "PU3_2 = kl_output(double_plotter2.histograms2, triple_plotter.histograms2, \"PU\")\n",
    "LUMA3_2 = kl_output(double_plotter2.histograms3, triple_plotter.histograms3, \"Luminance\")\n",
    "CHROMA3_2 = kl_output(double_plotter2.histograms4, triple_plotter.histograms4, \"Chrominance\")\n",
    "\n",
    "print(len(PU3_2))\n",
    "print(len(LUMA3_2))\n",
    "print(len(CHROMA3_2))"
   ]
  },
  {
   "cell_type": "code",
   "execution_count": 23,
   "id": "8e5f955c-dc7d-43d3-9a86-6df73763f3be",
   "metadata": {},
   "outputs": [
    {
     "data": {
      "image/png": "[encoded data removed]",
      "text/plain": [
       "<Figure size 720x360 with 1 Axes>"
      ]
     },
     "metadata": {
      "needs_background": "light"
     },
     "output_type": "display_data"
    }
   ],
   "source": [
    "# データをKLダイバージェンスのリストとして使用\n",
    "data1 = PU1_1\n",
    "data2 = PU2_1\n",
    "data3 = PU3_1\n",
    "data4 = PU1_2\n",
    "data5 = PU2_2\n",
    "data6 = PU3_2\n",
    "\n",
    "# 1つのプロットに全ての箱ひげ図を描画\n",
    "plt.figure(figsize=(10, 5))\n",
    "\n",
    "# 箱ひげ図の描画（1つ目）\n",
    "plt.boxplot([data1, data4, data2, data5, data3, data6], vert=True, labels=['S(15)\\nD(15,15)', 'D(25,15)\\nT(25,15,15)', 'S(25)\\nD(25,25)', 'D(35,25)\\nT(35,25,25)', 'S(35)\\nD(35,35)', 'D(45,35)\\nT(45,35,35)'], showfliers=False, medianprops={'color': 'orange', 'linewidth': 0.5})\n",
    "\n",
    "# 散布図の描画\n",
    "for i, data in enumerate([data1, data4, data2, data5, data3, data6]):\n",
    "    x = [i + 1] * len(data)  # 各データセットに対応する x 座標\n",
    "    plt.scatter(x, data, color='blue', marker='.', s=30)\n",
    "\n",
    "plt.ylim(-0.0001, 0.0020)\n",
    "plt.xlabel('QP values of the two images', fontsize=18, fontweight='bold')\n",
    "plt.ylabel('KL divergence', fontsize=18, fontweight='bold')\n",
    "plt.grid(True)\n",
    "\n",
    "# フォントプロパティの設定\n",
    "font_properties = FontProperties()\n",
    "font_properties.set_weight('bold')\n",
    "\n",
    "# X軸目盛のフォントサイズとスタイルを設定\n",
    "plt.gca().tick_params(axis='x', labelsize=24)\n",
    "for tick in plt.gca().get_xticklabels():\n",
    "    tick.set_fontproperties(font_properties)\n",
    "\n",
    "# Y軸目盛のフォントサイズとスタイルを設定\n",
    "plt.gca().tick_params(axis='y', labelsize=24)\n",
    "for tick in plt.gca().get_yticklabels():\n",
    "    tick.set_fontproperties(font_properties)\n",
    "\n",
    "# y軸の目盛りを指数表記に設定\n",
    "plt.gca().yaxis.set_major_formatter(ScalarFormatter(useMathText=True))\n",
    "plt.gca().ticklabel_format(style=\"sci\", axis=\"y\", scilimits=(0,0))\n",
    "\n",
    "plt.savefig('sameQP_PU.pdf', bbox_inches=\"tight\", pad_inches=0.1, dpi=1200)\n",
    "plt.show()"
   ]
  },
  {
   "cell_type": "code",
   "execution_count": 24,
   "id": "e394f882-cb48-41d8-ba16-a062e2355c72",
   "metadata": {},
   "outputs": [
    {
     "data": {
      "image/png": "[encoded data removed]",
      "text/plain": [
       "<Figure size 720x360 with 1 Axes>"
      ]
     },
     "metadata": {
      "needs_background": "light"
     },
     "output_type": "display_data"
    }
   ],
   "source": [
    "# データをKLダイバージェンスのリストとして使用\n",
    "data1 = LUMA1_1\n",
    "data2 = LUMA2_1\n",
    "data3 = LUMA3_1\n",
    "data4 = LUMA1_2\n",
    "data5 = LUMA2_2\n",
    "data6 = LUMA3_2\n",
    "\n",
    "# 1つのプロットに全ての箱ひげ図を描画\n",
    "plt.figure(figsize=(10, 5))\n",
    "\n",
    "# 箱ひげ図の描画（1つ目）\n",
    "plt.boxplot([data1, data4, data2, data5, data3, data6], vert=True, labels=['S(15)\\nD(15,15)', 'D(25,15)\\nT(25,15,15)', 'S(25)\\nD(25,25)', 'D(35,25)\\nT(35,25,25)', 'S(35)\\nD(35,35)', 'D(45,35)\\nT(45,35,35)'], showfliers=False, medianprops={'color': 'orange', 'linewidth': 0.5})\n",
    "\n",
    "# 散布図の描画\n",
    "for i, data in enumerate([data1, data4, data2, data5, data3, data6]):\n",
    "    x = [i + 1] * len(data)  # 各データセットに対応する x 座標\n",
    "    plt.scatter(x, data, color='blue', marker='.', s=30)\n",
    "\n",
    "plt.ylim(-0.001, 0.02)\n",
    "plt.xlabel('QP values of the two images', fontsize=18, fontweight='bold')\n",
    "plt.ylabel('KL divergence', fontsize=18, fontweight='bold')\n",
    "plt.grid(True)\n",
    "\n",
    "# フォントプロパティの設定\n",
    "font_properties = FontProperties()\n",
    "font_properties.set_weight('bold')\n",
    "\n",
    "# X軸目盛のフォントサイズとスタイルを設定\n",
    "plt.gca().tick_params(axis='x', labelsize=24)\n",
    "for tick in plt.gca().get_xticklabels():\n",
    "    tick.set_fontproperties(font_properties)\n",
    "\n",
    "# Y軸目盛のフォントサイズとスタイルを設定\n",
    "plt.gca().tick_params(axis='y', labelsize=24)\n",
    "for tick in plt.gca().get_yticklabels():\n",
    "    tick.set_fontproperties(font_properties)\n",
    "\n",
    "# y軸の目盛りを指数表記に設定\n",
    "plt.gca().yaxis.set_major_formatter(ScalarFormatter(useMathText=True))\n",
    "plt.gca().ticklabel_format(style=\"sci\", axis=\"y\", scilimits=(0,0))\n",
    "\n",
    "plt.savefig('sameQP_LUMA.pdf', bbox_inches=\"tight\", pad_inches=0.1, dpi=1200)\n",
    "plt.show()"
   ]
  },
  {
   "cell_type": "code",
   "execution_count": 25,
   "id": "7a7f24a0-41f1-4dad-ac41-e6566bb4746c",
   "metadata": {},
   "outputs": [
    {
     "data": {
      "image/png": "[encoded data removed]",
      "text/plain": [
       "<Figure size 720x360 with 1 Axes>"
      ]
     },
     "metadata": {
      "needs_background": "light"
     },
     "output_type": "display_data"
    }
   ],
   "source": [
    "# データをKLダイバージェンスのリストとして使用\n",
    "data1 = CHROMA1_1\n",
    "data2 = CHROMA2_1\n",
    "data3 = CHROMA3_1\n",
    "data4 = CHROMA1_2\n",
    "data5 = CHROMA2_2\n",
    "data6 = CHROMA3_2\n",
    "\n",
    "# 1つのプロットに全ての箱ひげ図を描画\n",
    "plt.figure(figsize=(10, 5))\n",
    "\n",
    "# 箱ひげ図の描画（1つ目）\n",
    "plt.boxplot([data1, data4, data2, data5, data3, data6], vert=True, labels=['S(15)\\nD(15,15)', 'D(25,15)\\nT(25,15,15)', 'S(25)\\nD(25,25)', 'D(35,25)\\nT(35,25,25)', 'S(35)\\nD(35,35)', 'D(45,35)\\nT(45,35,35)'], showfliers=False, medianprops={'color': 'orange', 'linewidth': 0.5})\n",
    "\n",
    "# 散布図の描画\n",
    "for i, data in enumerate([data1, data4, data2, data5, data3, data6]):\n",
    "    x = [i + 1] * len(data)  # 各データセットに対応する x 座標\n",
    "    plt.scatter(x, data, color='blue', marker='.', s=30)\n",
    "\n",
    "plt.ylim(-0.001, 0.02)\n",
    "plt.xlabel('QP values of the two images', fontsize=18, fontweight='bold')\n",
    "plt.ylabel('KL divergence', fontsize=18, fontweight='bold')\n",
    "plt.grid(True)\n",
    "\n",
    "# フォントプロパティの設定\n",
    "font_properties = FontProperties()\n",
    "font_properties.set_weight('bold')\n",
    "\n",
    "# X軸目盛のフォントサイズとスタイルを設定\n",
    "plt.gca().tick_params(axis='x', labelsize=24)\n",
    "for tick in plt.gca().get_xticklabels():\n",
    "    tick.set_fontproperties(font_properties)\n",
    "\n",
    "# Y軸目盛のフォントサイズとスタイルを設定\n",
    "plt.gca().tick_params(axis='y', labelsize=24)\n",
    "for tick in plt.gca().get_yticklabels():\n",
    "    tick.set_fontproperties(font_properties)\n",
    "\n",
    "# y軸の目盛りを指数表記に設定\n",
    "plt.gca().yaxis.set_major_formatter(ScalarFormatter(useMathText=True))\n",
    "plt.gca().ticklabel_format(style=\"sci\", axis=\"y\", scilimits=(0,0))\n",
    "\n",
    "plt.savefig('sameQP_CHROMA.pdf', bbox_inches=\"tight\", pad_inches=0.1, dpi=1200)\n",
    "plt.show()"
   ]
  },
  {
   "cell_type": "code",
   "execution_count": null,
   "id": "07e6cc34-96cd-498d-8564-b418d7e14bcf",
   "metadata": {},
   "outputs": [],
   "source": []
  },
  {
   "cell_type": "code",
   "execution_count": null,
   "id": "f2564ba8-91bb-4e61-b623-764f109beb42",
   "metadata": {},
   "outputs": [],
   "source": []
  },
  {
   "cell_type": "code",
   "execution_count": null,
   "id": "2209fec6-05a0-4787-ae58-218896705e11",
   "metadata": {},
   "outputs": [],
   "source": []
  }
 ],
 "metadata": {
  "kernelspec": {
   "display_name": "Python 3 (ipykernel)",
   "language": "python",
   "name": "python3"
  },
  "language_info": {
   "codemirror_mode": {
    "name": "ipython",
    "version": 3
   },
   "file_extension": ".py",
   "mimetype": "text/x-python",
   "name": "python",
   "nbconvert_exporter": "python",
   "pygments_lexer": "ipython3",
   "version": "3.9.12"
  }
 },
 "nbformat": 4,
 "nbformat_minor": 5
}
