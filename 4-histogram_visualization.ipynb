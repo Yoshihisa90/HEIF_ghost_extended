{
 "cells": [
  {
   "cell_type": "code",
   "execution_count": 1,
   "id": "e7acb1f5",
   "metadata": {},
   "outputs": [],
   "source": [
    "from parameters import QP1, QP2, QP3, CTU, PRESET \n",
    "from plot_widgets import Single_PlotVisualization, Double_PlotVisualization, Triple_PlotVisualization, kl_output, compare_depth_elements\n",
    "from scipy.stats import entropy\n",
    "import matplotlib.pyplot as plt\n",
    "import numpy as np\n"
   ]
  },
  {
   "cell_type": "code",
   "execution_count": 2,
   "id": "cd7895f6",
   "metadata": {},
   "outputs": [
    {
     "data": {
      "application/vnd.jupyter.widget-view+json": {
       "model_id": "64d5940be96f472dabe428859cddb4b0",
       "version_major": 2,
       "version_minor": 0
      },
      "text/plain": [
       "ToggleButtons(description='QP:', options=(5, 10, 16, 20, 24, 27, 32, 39, 42, 45), value=5)"
      ]
     },
     "metadata": {},
     "output_type": "display_data"
    },
    {
     "data": {
      "application/vnd.jupyter.widget-view+json": {
       "model_id": "3adc6470909c4a798044ef4ecc6e4b1f",
       "version_major": 2,
       "version_minor": 0
      },
      "text/plain": [
       "ToggleButtons(description='CTU:', options=(64,), value=64)"
      ]
     },
     "metadata": {},
     "output_type": "display_data"
    },
    {
     "data": {
      "application/vnd.jupyter.widget-view+json": {
       "model_id": "dcf3429e80ea40089fad2be0b619599c",
       "version_major": 2,
       "version_minor": 0
      },
      "text/plain": [
       "ToggleButtons(description='PRESET:', options=('medium',), value='medium')"
      ]
     },
     "metadata": {},
     "output_type": "display_data"
    },
    {
     "data": {
      "application/vnd.jupyter.widget-view+json": {
       "model_id": "22ce0f4b1ac447c3b5b78b6c42508d38",
       "version_major": 2,
       "version_minor": 0
      },
      "text/plain": [
       "Dropdown(description='IMAGEs:', options=(), value=None)"
      ]
     },
     "metadata": {},
     "output_type": "display_data"
    },
    {
     "data": {
      "application/vnd.jupyter.widget-view+json": {
       "model_id": "65a3652ff82c4413a850a204cba85360",
       "version_major": 2,
       "version_minor": 0
      },
      "text/plain": [
       "Button(description='Plot histogram', style=ButtonStyle())"
      ]
     },
     "metadata": {},
     "output_type": "display_data"
    },
    {
     "data": {
      "application/vnd.jupyter.widget-view+json": {
       "model_id": "ae99f79757aa4220962df1c368dd1ff7",
       "version_major": 2,
       "version_minor": 0
      },
      "text/plain": [
       "Output()"
      ]
     },
     "metadata": {},
     "output_type": "display_data"
    }
   ],
   "source": [
    "single_plotter = Single_PlotVisualization(QP1, CTU, PRESET)"
   ]
  },
  {
   "cell_type": "code",
   "execution_count": 3,
   "id": "67be1e01-57bc-4852-9959-1eed94cbdcce",
   "metadata": {},
   "outputs": [
    {
     "data": {
      "application/vnd.jupyter.widget-view+json": {
       "model_id": "29f7451e6bb040bf884771d9191b1d2f",
       "version_major": 2,
       "version_minor": 0
      },
      "text/plain": [
       "ToggleButtons(description='QP1:', options=(5, 10, 16, 20, 24, 27, 32, 39, 42, 45), value=5)"
      ]
     },
     "metadata": {},
     "output_type": "display_data"
    },
    {
     "data": {
      "application/vnd.jupyter.widget-view+json": {
       "model_id": "d6270e1b5ad5475fb56f12c8c6e9c948",
       "version_major": 2,
       "version_minor": 0
      },
      "text/plain": [
       "ToggleButtons(description='QP2:', options=(10, 15, 20, 25, 30, 32, 35, 40, 45, 50), value=10)"
      ]
     },
     "metadata": {},
     "output_type": "display_data"
    },
    {
     "data": {
      "application/vnd.jupyter.widget-view+json": {
       "model_id": "b013d89a1b2a4897b266e6215d0dc5c0",
       "version_major": 2,
       "version_minor": 0
      },
      "text/plain": [
       "ToggleButtons(description='CTU:', options=(64,), value=64)"
      ]
     },
     "metadata": {},
     "output_type": "display_data"
    },
    {
     "data": {
      "application/vnd.jupyter.widget-view+json": {
       "model_id": "e9cf9893c53b4366928f591b4d8904f1",
       "version_major": 2,
       "version_minor": 0
      },
      "text/plain": [
       "ToggleButtons(description='PRESET:', options=('medium',), value='medium')"
      ]
     },
     "metadata": {},
     "output_type": "display_data"
    },
    {
     "data": {
      "application/vnd.jupyter.widget-view+json": {
       "model_id": "3d564bfa631c45f28c44973b7a202cdc",
       "version_major": 2,
       "version_minor": 0
      },
      "text/plain": [
       "Dropdown(description='IMAGEs:', options=(), value=None)"
      ]
     },
     "metadata": {},
     "output_type": "display_data"
    },
    {
     "data": {
      "application/vnd.jupyter.widget-view+json": {
       "model_id": "7093d643656f4c439d703b2fcaf22807",
       "version_major": 2,
       "version_minor": 0
      },
      "text/plain": [
       "Button(description='Plot histogram', style=ButtonStyle())"
      ]
     },
     "metadata": {},
     "output_type": "display_data"
    },
    {
     "data": {
      "application/vnd.jupyter.widget-view+json": {
       "model_id": "245e40db1c614d3b957b26ef542474b1",
       "version_major": 2,
       "version_minor": 0
      },
      "text/plain": [
       "Output()"
      ]
     },
     "metadata": {},
     "output_type": "display_data"
    }
   ],
   "source": [
    "double_plotter = Double_PlotVisualization(QP1, QP2, CTU, PRESET)"
   ]
  },
  {
   "cell_type": "code",
   "execution_count": 4,
   "id": "80af87fc-c933-473d-a1f8-474191ba71f5",
   "metadata": {},
   "outputs": [
    {
     "data": {
      "application/vnd.jupyter.widget-view+json": {
       "model_id": "78d75c4c6bea413796283db97c474c20",
       "version_major": 2,
       "version_minor": 0
      },
      "text/plain": [
       "ToggleButtons(description='QP1:', options=(5, 10, 16, 20, 24, 27, 32, 39, 42, 45), value=5)"
      ]
     },
     "metadata": {},
     "output_type": "display_data"
    },
    {
     "data": {
      "application/vnd.jupyter.widget-view+json": {
       "model_id": "df666b3b6d1b4701b5fe2f47294fe4e0",
       "version_major": 2,
       "version_minor": 0
      },
      "text/plain": [
       "ToggleButtons(description='QP2:', options=(10, 15, 20, 25, 30, 32, 35, 40, 45, 50), value=10)"
      ]
     },
     "metadata": {},
     "output_type": "display_data"
    },
    {
     "data": {
      "application/vnd.jupyter.widget-view+json": {
       "model_id": "ac9186cd37f14a24b73971f12f96863b",
       "version_major": 2,
       "version_minor": 0
      },
      "text/plain": [
       "ToggleButtons(description='QP3:', options=(10, 15, 20, 25, 30, 32, 35, 40, 45, 50), value=10)"
      ]
     },
     "metadata": {},
     "output_type": "display_data"
    },
    {
     "data": {
      "application/vnd.jupyter.widget-view+json": {
       "model_id": "f0fe17357ba0469dbc461edc91a6fbed",
       "version_major": 2,
       "version_minor": 0
      },
      "text/plain": [
       "ToggleButtons(description='CTU:', options=(64,), value=64)"
      ]
     },
     "metadata": {},
     "output_type": "display_data"
    },
    {
     "data": {
      "application/vnd.jupyter.widget-view+json": {
       "model_id": "3e5b4b42b7db41bebd0e35d60ecac6c5",
       "version_major": 2,
       "version_minor": 0
      },
      "text/plain": [
       "ToggleButtons(description='PRESET:', options=('medium',), value='medium')"
      ]
     },
     "metadata": {},
     "output_type": "display_data"
    },
    {
     "data": {
      "application/vnd.jupyter.widget-view+json": {
       "model_id": "55c5aa0cc23346d4b17e6d7699f9d6cd",
       "version_major": 2,
       "version_minor": 0
      },
      "text/plain": [
       "Dropdown(description='IMAGEs:', options=(), value=None)"
      ]
     },
     "metadata": {},
     "output_type": "display_data"
    },
    {
     "data": {
      "application/vnd.jupyter.widget-view+json": {
       "model_id": "dbae99eb25cd48189aff1de6676c4398",
       "version_major": 2,
       "version_minor": 0
      },
      "text/plain": [
       "Button(description='Plot histogram', style=ButtonStyle())"
      ]
     },
     "metadata": {},
     "output_type": "display_data"
    },
    {
     "data": {
      "application/vnd.jupyter.widget-view+json": {
       "model_id": "0e5bb34b06344a389da181535433ef84",
       "version_major": 2,
       "version_minor": 0
      },
      "text/plain": [
       "Output()"
      ]
     },
     "metadata": {},
     "output_type": "display_data"
    }
   ],
   "source": [
    "triple_plotter = Triple_PlotVisualization(QP1, QP2, QP3, CTU, PRESET)"
   ]
  },
  {
   "cell_type": "code",
   "execution_count": null,
   "id": "cc8911e3-1d20-4819-8003-6c9a77f5f3ac",
   "metadata": {},
   "outputs": [],
   "source": []
  },
  {
   "cell_type": "code",
   "execution_count": 5,
   "id": "bffacd1b-0d01-4b82-a97f-4ac3b808255e",
   "metadata": {},
   "outputs": [],
   "source": [
    "# KL divergence - Single vs Double\n",
    "kl_output(single_plotter.histograms, double_plotter.histograms, \"CU\")\n",
    "kl_output(single_plotter.histograms2, double_plotter.histograms2, \"PU\")\n",
    "kl_output(single_plotter.histograms3, double_plotter.histograms3, \"Luminance\")\n",
    "kl_output(single_plotter.histograms4, double_plotter.histograms4, \"Chrominance\")"
   ]
  },
  {
   "cell_type": "code",
   "execution_count": 6,
   "id": "cf5d8d16-192e-47cc-ae5d-82f247170631",
   "metadata": {},
   "outputs": [],
   "source": [
    "# KL divergence - Double vs Triple\n",
    "kl_output(double_plotter.histograms, triple_plotter.histograms, \"CU\")\n",
    "kl_output(double_plotter.histograms2, triple_plotter.histograms2, \"PU\")\n",
    "kl_output(double_plotter.histograms3, triple_plotter.histograms3, \"Luminance\")\n",
    "kl_output(double_plotter.histograms4, triple_plotter.histograms4, \"Chrominance\")"
   ]
  },
  {
   "cell_type": "code",
   "execution_count": null,
   "id": "5a41aa19-f7ad-455a-9e7b-2027e60d36c2",
   "metadata": {},
   "outputs": [],
   "source": []
  },
  {
   "cell_type": "code",
   "execution_count": null,
   "id": "a355dd78-61f8-42cc-85bb-3564f7482991",
   "metadata": {},
   "outputs": [],
   "source": []
  },
  {
   "cell_type": "code",
   "execution_count": null,
   "id": "4143794b-ea5c-4f9d-8f34-477197218b24",
   "metadata": {},
   "outputs": [],
   "source": []
  },
  {
   "cell_type": "code",
   "execution_count": 7,
   "id": "895a1d90-824d-411e-9e60-103cd6fa222c",
   "metadata": {},
   "outputs": [],
   "source": [
    "# # Examining changes in elements at the same index (location) index_range = 0-63232\n",
    "# compare_depth_elements(double_plotter.video_selection.value, triple_plotter.video_selection.value)"
   ]
  },
  {
   "cell_type": "code",
   "execution_count": null,
   "id": "250300e3-4a56-4616-8253-afb6de6eb54b",
   "metadata": {},
   "outputs": [],
   "source": []
  },
  {
   "cell_type": "code",
   "execution_count": null,
   "id": "f27ad259-4128-477b-98c9-406b0d80ccdd",
   "metadata": {},
   "outputs": [],
   "source": []
  },
  {
   "cell_type": "code",
   "execution_count": 8,
   "id": "3ed2ab25-4efd-40dd-bd6f-7dc1dd6f00dd",
   "metadata": {},
   "outputs": [
    {
     "name": "stdout",
     "output_type": "stream",
     "text": [
      "depth\n",
      "pu\n",
      "luminance\n",
      "chroma\n",
      "qp\n",
      "[15 15 15 ... 15 15 15]\n"
     ]
    }
   ],
   "source": [
    "import numpy as np\n",
    "\n",
    "loaded_data = np.load('/Prove/Yoshihisa/HEIF_ghost/HEIF_IMAGES_DATA/HEIF_images_single_recompressed_data/23_1stQP10_2ndQP15_CTU64_PRESETmedium.npz')\n",
    "for key, n in loaded_data.items():\n",
    "    print(key)\n",
    "print(loaded_data['qp'])"
   ]
  },
  {
   "cell_type": "code",
   "execution_count": null,
   "id": "f340d0e6-1066-4f4c-b29d-3e325b85bbc7",
   "metadata": {},
   "outputs": [],
   "source": []
  }
 ],
 "metadata": {
  "kernelspec": {
   "display_name": "Python 3 (ipykernel)",
   "language": "python",
   "name": "python3"
  },
  "language_info": {
   "codemirror_mode": {
    "name": "ipython",
    "version": 3
   },
   "file_extension": ".py",
   "mimetype": "text/x-python",
   "name": "python",
   "nbconvert_exporter": "python",
   "pygments_lexer": "ipython3",
   "version": "3.9.12"
  }
 },
 "nbformat": 4,
 "nbformat_minor": 5
}
