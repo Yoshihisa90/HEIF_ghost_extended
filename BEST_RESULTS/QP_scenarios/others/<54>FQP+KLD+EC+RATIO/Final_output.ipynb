{
 "cells": [
  {
   "cell_type": "code",
   "execution_count": 3,
   "id": "473d61d9-016c-4327-ba1e-56c2d2599af2",
   "metadata": {},
   "outputs": [
    {
     "name": "stdout",
     "output_type": "stream",
     "text": [
      "      Model  Average Test Score Mean  Average Test Score Std        Model  \\\n",
      "0  RBF_LQP1                    87.37                    5.78  LINEAR_LQP1   \n",
      "1   RBF_SQP                    79.59                    5.66   LINEAR_SQP   \n",
      "2  RBF_LQP2                    62.13                    3.82  LINEAR_LQP2   \n",
      "\n",
      "   Average Test Score Mean  Average Test Score Std     Model  \\\n",
      "0                    85.78                    5.92  OLD_LQP1   \n",
      "1                    77.69                    7.88   OLD_SQP   \n",
      "2                    63.18                    2.71  OLD_LQP2   \n",
      "\n",
      "   Average Test Score Mean  Average Test Score Std  \n",
      "0                    86.87                    0.93  \n",
      "1                    50.50                    0.65  \n",
      "2                    57.25                    1.03  \n"
     ]
    }
   ],
   "source": [
    "import pandas as pd\n",
    "\n",
    "# すべてのCSVファイル名をリストにまとめる\n",
    "csv_files = [f'statistics_data{i}.csv' for i in range(1, 11)]\n",
    "\n",
    "# 各CSVファイルを読み込み、データフレームをリストに保存\n",
    "dataframes = [pd.read_csv(file) for file in csv_files]\n",
    "\n",
    "# すべてのデータフレームを縦に連結\n",
    "combined_df = pd.concat(dataframes, ignore_index=True)\n",
    "\n",
    "# Modelの順序を保持するためにカテゴリー型に変更\n",
    "combined_df['Model'] = pd.Categorical(combined_df['Model'], categories=combined_df['Model'].unique(), ordered=True)\n",
    "\n",
    "# モデルごとにグループ化して集計\n",
    "grouped_df = combined_df.groupby('Model', sort=False).agg({\n",
    "    'Average Test Score': ['mean', 'std']\n",
    "}).reset_index()\n",
    "\n",
    "# カラム名のリネーム\n",
    "grouped_df.columns = ['Model', 'Average Test Score Mean', 'Average Test Score Std']\n",
    "\n",
    "# 小数点2位までに丸める\n",
    "grouped_df['Average Test Score Mean'] = grouped_df['Average Test Score Mean'].round(2)\n",
    "grouped_df['Average Test Score Std'] = grouped_df['Average Test Score Std'].round(2)\n",
    "\n",
    "# モデルごとにデータを分割\n",
    "rbf_df = grouped_df[grouped_df['Model'].str.startswith('RBF')]\n",
    "linear_df = grouped_df[grouped_df['Model'].str.startswith('LINEAR')]\n",
    "old_df = grouped_df[grouped_df['Model'].str.startswith('OLD')]\n",
    "\n",
    "# 各データフレームのインデックスをリセット\n",
    "rbf_df.reset_index(drop=True, inplace=True)\n",
    "linear_df.reset_index(drop=True, inplace=True)\n",
    "old_df.reset_index(drop=True, inplace=True)\n",
    "\n",
    "# データを横に並べる\n",
    "final_df = pd.concat([rbf_df, linear_df, old_df], axis=1)\n",
    "\n",
    "# 結果を表示\n",
    "print(final_df)\n",
    "\n",
    "# CSVファイルとして保存\n",
    "final_df.to_csv('grouped_statistics.csv', index=False)\n",
    "\n"
   ]
  },
  {
   "cell_type": "code",
   "execution_count": null,
   "id": "5b1c08a0-0eb4-4568-837e-cbbc0c846eef",
   "metadata": {},
   "outputs": [],
   "source": []
  }
 ],
 "metadata": {
  "kernelspec": {
   "display_name": "Python 3 (ipykernel)",
   "language": "python",
   "name": "python3"
  },
  "language_info": {
   "codemirror_mode": {
    "name": "ipython",
    "version": 3
   },
   "file_extension": ".py",
   "mimetype": "text/x-python",
   "name": "python",
   "nbconvert_exporter": "python",
   "pygments_lexer": "ipython3",
   "version": "3.9.12"
  }
 },
 "nbformat": 4,
 "nbformat_minor": 5
}
