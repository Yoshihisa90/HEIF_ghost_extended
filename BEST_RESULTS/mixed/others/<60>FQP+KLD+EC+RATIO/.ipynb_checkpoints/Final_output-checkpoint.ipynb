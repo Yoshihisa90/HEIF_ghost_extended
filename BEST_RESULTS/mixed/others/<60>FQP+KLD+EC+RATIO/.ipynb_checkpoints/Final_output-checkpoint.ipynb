{
 "cells": [
  {
   "cell_type": "code",
   "execution_count": 1,
   "id": "473d61d9-016c-4327-ba1e-56c2d2599af2",
   "metadata": {},
   "outputs": [
    {
     "name": "stdout",
     "output_type": "stream",
     "text": [
      "  Model  Average Test Score Mean  Average Test Score Std   Model  \\\n",
      "0   RBF                    76.78                    1.44  LINEAR   \n",
      "\n",
      "   Average Test Score Mean  Average Test Score Std Model  \\\n",
      "0                    74.75                    1.89   OLD   \n",
      "\n",
      "   Average Test Score Mean  Average Test Score Std  \n",
      "0                    59.28                    0.15  \n"
     ]
    }
   ],
   "source": [
    "import pandas as pd\n",
    "\n",
    "# すべてのCSVファイル名をリストにまとめる\n",
    "csv_files = [f'statistics_data{i}.csv' for i in range(1, 11)]\n",
    "\n",
    "# 各CSVファイルを読み込み、データフレームをリストに保存\n",
    "dataframes = [pd.read_csv(file) for file in csv_files]\n",
    "\n",
    "# すべてのデータフレームを縦に連結\n",
    "combined_df = pd.concat(dataframes, ignore_index=True)\n",
    "\n",
    "# Modelの順序を保持するためにカテゴリー型に変更\n",
    "combined_df['Model'] = pd.Categorical(combined_df['Model'], categories=combined_df['Model'].unique(), ordered=True)\n",
    "\n",
    "# モデルごとにグループ化して集計\n",
    "grouped_df = combined_df.groupby('Model', sort=False).agg({\n",
    "    'Average Test Score': ['mean', 'std']\n",
    "}).reset_index()\n",
    "\n",
    "# カラム名のリネーム\n",
    "grouped_df.columns = ['Model', 'Average Test Score Mean', 'Average Test Score Std']\n",
    "\n",
    "# 小数点2位までに丸める\n",
    "grouped_df['Average Test Score Mean'] = grouped_df['Average Test Score Mean'].round(2)\n",
    "grouped_df['Average Test Score Std'] = grouped_df['Average Test Score Std'].round(2)\n",
    "\n",
    "# モデルごとにデータを分割\n",
    "rbf_df = grouped_df[grouped_df['Model'].str.startswith('RBF')]\n",
    "linear_df = grouped_df[grouped_df['Model'].str.startswith('LINEAR')]\n",
    "old_df = grouped_df[grouped_df['Model'].str.startswith('OLD')]\n",
    "\n",
    "# 各データフレームのインデックスをリセット\n",
    "rbf_df.reset_index(drop=True, inplace=True)\n",
    "linear_df.reset_index(drop=True, inplace=True)\n",
    "old_df.reset_index(drop=True, inplace=True)\n",
    "\n",
    "# データを横に並べる\n",
    "final_df = pd.concat([rbf_df, linear_df, old_df], axis=1)\n",
    "\n",
    "# 結果を表示\n",
    "print(final_df)\n",
    "\n",
    "# CSVファイルとして保存\n",
    "final_df.to_csv('grouped_statistics.csv', index=False)\n",
    "\n"
   ]
  },
  {
   "cell_type": "code",
   "execution_count": null,
   "id": "4f73c4fa-12d9-4d8b-abbf-727d160c6083",
   "metadata": {},
   "outputs": [],
   "source": []
  }
 ],
 "metadata": {
  "kernelspec": {
   "display_name": "Python 3 (ipykernel)",
   "language": "python",
   "name": "python3"
  },
  "language_info": {
   "codemirror_mode": {
    "name": "ipython",
    "version": 3
   },
   "file_extension": ".py",
   "mimetype": "text/x-python",
   "name": "python",
   "nbconvert_exporter": "python",
   "pygments_lexer": "ipython3",
   "version": "3.9.12"
  }
 },
 "nbformat": 4,
 "nbformat_minor": 5
}
